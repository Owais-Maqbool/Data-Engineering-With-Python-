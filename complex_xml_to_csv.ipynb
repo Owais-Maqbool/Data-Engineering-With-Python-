{
 "cells": [
  {
   "cell_type": "code",
   "execution_count": 1,
   "metadata": {},
   "outputs": [
    {
     "name": "stderr",
     "output_type": "stream",
     "text": [
      "<>:5: SyntaxWarning: invalid escape sequence '\\c'\n",
      "<>:35: SyntaxWarning: invalid escape sequence '\\c'\n",
      "<>:5: SyntaxWarning: invalid escape sequence '\\c'\n",
      "<>:35: SyntaxWarning: invalid escape sequence '\\c'\n",
      "C:\\Users\\Owais\\AppData\\Local\\Temp\\ipykernel_13620\\2205310858.py:5: SyntaxWarning: invalid escape sequence '\\c'\n",
      "  xml_file_path = \"Input_DataFiles\\complex.xml\"\n",
      "C:\\Users\\Owais\\AppData\\Local\\Temp\\ipykernel_13620\\2205310858.py:35: SyntaxWarning: invalid escape sequence '\\c'\n",
      "  csv_output = \"Output_DataFiles\\complex.csv\"\n"
     ]
    },
    {
     "name": "stdout",
     "output_type": "stream",
     "text": [
      "        description product_image   gender item_number  price    size  \\\n",
      "0  Cardigan Sweater  cardigan.jpg    Men's     QWZ5671  39.95  Medium   \n",
      "1  Cardigan Sweater  cardigan.jpg  Women's     RRX9856  42.50   Small   \n",
      "\n",
      "  color_swatch  \n",
      "0          Red  \n",
      "1          Red  \n",
      "DataFrame saved to Output_DataFiles\\complex.csv\n"
     ]
    }
   ],
   "source": [
    "import xml.etree.ElementTree as ET\n",
    "import pandas as pd\n",
    "\n",
    "# Load XML data from file\n",
    "xml_file_path = \"Input_DataFiles\\complex.xml\"\n",
    "tree = ET.parse(xml_file_path)\n",
    "root = tree.getroot()\n",
    "\n",
    "# Extract data from XML and create a list of dictionaries\n",
    "data_list = []\n",
    "\n",
    "for product in root.findall(\".//product\"):\n",
    "    product_data = {\n",
    "        \"description\": product.get(\"description\"),\n",
    "        \"product_image\": product.get(\"product_image\"),\n",
    "    }\n",
    "\n",
    "    for catalog_item in product.findall(\"catalog_item\"):\n",
    "        catalog_item_data = {\n",
    "            \"gender\": catalog_item.get(\"gender\"),\n",
    "            \"item_number\": catalog_item.find(\"item_number\").text,\n",
    "            \"price\": float(catalog_item.find(\"price\").text),\n",
    "            \"size\": catalog_item.find(\"size\").get(\"description\"),\n",
    "            \"color_swatch\": catalog_item.find(\"size/color_swatch\").text,\n",
    "        }\n",
    "        data_list.append({**product_data, **catalog_item_data})\n",
    "\n",
    "# Convert the list of dictionaries to a Pandas DataFrame\n",
    "df = pd.DataFrame(data_list)\n",
    "\n",
    "# Display the resulting DataFrame\n",
    "print(df)\n",
    "\n",
    "# Save the DataFrame to a CSV file\n",
    "csv_output = \"Output_DataFiles\\complex.csv\"\n",
    "df.to_csv(csv_output, index=False)\n",
    "print(f\"DataFrame saved to {csv_output}\")\n"
   ]
  },
  {
   "cell_type": "code",
   "execution_count": null,
   "metadata": {},
   "outputs": [],
   "source": []
  }
 ],
 "metadata": {
  "kernelspec": {
   "display_name": "Python 3",
   "language": "python",
   "name": "python3"
  },
  "language_info": {
   "codemirror_mode": {
    "name": "ipython",
    "version": 3
   },
   "file_extension": ".py",
   "mimetype": "text/x-python",
   "name": "python",
   "nbconvert_exporter": "python",
   "pygments_lexer": "ipython3",
   "version": "3.12.0"
  }
 },
 "nbformat": 4,
 "nbformat_minor": 2
}
