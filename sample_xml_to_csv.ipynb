{
 "cells": [
  {
   "cell_type": "code",
   "execution_count": 4,
   "metadata": {},
   "outputs": [
    {
     "name": "stdout",
     "output_type": "stream",
     "text": [
      "   id         name  age         city\n",
      "0   1     John Doe   30     New York\n",
      "1   2   Jane Smith   25  Los Angeles\n",
      "2   3  Bob Johnson   35      Chicago\n",
      "DataFrame saved to g:\\Project base learning\\Output_DataFiles\\sample.csv\n"
     ]
    },
    {
     "name": "stderr",
     "output_type": "stream",
     "text": [
      "<>:6: SyntaxWarning: invalid escape sequence '\\s'\n",
      "<>:30: SyntaxWarning: invalid escape sequence '\\s'\n",
      "<>:6: SyntaxWarning: invalid escape sequence '\\s'\n",
      "<>:30: SyntaxWarning: invalid escape sequence '\\s'\n",
      "C:\\Users\\Owais\\AppData\\Local\\Temp\\ipykernel_3456\\999575729.py:6: SyntaxWarning: invalid escape sequence '\\s'\n",
      "  xml_file_path = os.path.abspath(\"Input_DataFiles\\sample.xml\")\n",
      "C:\\Users\\Owais\\AppData\\Local\\Temp\\ipykernel_3456\\999575729.py:30: SyntaxWarning: invalid escape sequence '\\s'\n",
      "  csv_output = os.path.abspath(\"Output_DataFiles\\sample.csv\")\n"
     ]
    }
   ],
   "source": [
    "import os\n",
    "import xml.etree.ElementTree as ET\n",
    "import pandas as pd\n",
    "\n",
    "# Get the absolute path to the XML file\n",
    "xml_file_path = os.path.abspath(\"Input_DataFiles\\sample.xml\")\n",
    "\n",
    "# Load XML data from file\n",
    "tree = ET.parse(xml_file_path)\n",
    "root = tree.getroot()\n",
    "\n",
    "# Extract data from XML and create a list of dictionaries\n",
    "data_list = []\n",
    "for record in root.findall(\".//record\"):\n",
    "    record_data = {\n",
    "        \"id\": int(record.find(\"id\").text),\n",
    "        \"name\": record.find(\"name\").text,\n",
    "        \"age\": int(record.find(\"age\").text),\n",
    "        \"city\": record.find(\"city\").text,\n",
    "    }\n",
    "    data_list.append(record_data)\n",
    "\n",
    "# Convert the list of dictionaries to a Pandas DataFrame\n",
    "df = pd.DataFrame(data_list)\n",
    "\n",
    "# Display the resulting DataFrame\n",
    "print(df)\n",
    "\n",
    "# Save the resulting DataFrame to a CSV file named (sample.csv)\n",
    "csv_output = os.path.abspath(\"Output_DataFiles\\sample.csv\")\n",
    "df.to_csv(csv_output, index=False)\n",
    "print(f\"DataFrame saved to {csv_output}\")"
   ]
  }
 ],
 "metadata": {
  "kernelspec": {
   "display_name": "Python 3",
   "language": "python",
   "name": "python3"
  },
  "language_info": {
   "codemirror_mode": {
    "name": "ipython",
    "version": 3
   },
   "file_extension": ".py",
   "mimetype": "text/x-python",
   "name": "python",
   "nbconvert_exporter": "python",
   "pygments_lexer": "ipython3",
   "version": "3.12.0"
  }
 },
 "nbformat": 4,
 "nbformat_minor": 2
}
